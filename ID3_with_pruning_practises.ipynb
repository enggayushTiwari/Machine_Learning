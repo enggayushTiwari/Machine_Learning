{
  "nbformat": 4,
  "nbformat_minor": 0,
  "metadata": {
    "colab": {
      "provenance": []
    },
    "kernelspec": {
      "name": "python3",
      "display_name": "Python 3"
    },
    "language_info": {
      "name": "python"
    }
  },
  "cells": [
    {
      "cell_type": "code",
      "source": [
        "import pandas as pd\n",
        "import numpy as np\n",
        "\n",
        "df = pd.read_csv('mushrooms.csv')\n",
        "\n",
        "print(df.head())\n",
        "\n",
        "print(\"Missing values:\\n\", df.isnull().sum())\n",
        "\n",
        "df.replace(\"?\", np.nan, inplace=True)\n",
        "df.dropna(inplace=True)"
      ],
      "metadata": {
        "colab": {
          "base_uri": "https://localhost:8080/"
        },
        "id": "pr1DwtUI3vb2",
        "outputId": "ce9cd591-a619-4e98-8ca8-690389fe0ab5"
      },
      "execution_count": null,
      "outputs": [
        {
          "output_type": "stream",
          "name": "stdout",
          "text": [
            "  class cap-shape cap-surface cap-color bruises odor gill-attachment  \\\n",
            "0     p         x           s         n       t    p               f   \n",
            "1     e         x           s         y       t    a               f   \n",
            "2     e         b           s         w       t    l               f   \n",
            "3     p         x           y         w       t    p               f   \n",
            "4     e         x           s         g       f    n               f   \n",
            "\n",
            "  gill-spacing gill-size gill-color  ... stalk-surface-below-ring  \\\n",
            "0            c         n          k  ...                        s   \n",
            "1            c         b          k  ...                        s   \n",
            "2            c         b          n  ...                        s   \n",
            "3            c         n          n  ...                        s   \n",
            "4            w         b          k  ...                        s   \n",
            "\n",
            "  stalk-color-above-ring stalk-color-below-ring veil-type veil-color  \\\n",
            "0                      w                      w         p          w   \n",
            "1                      w                      w         p          w   \n",
            "2                      w                      w         p          w   \n",
            "3                      w                      w         p          w   \n",
            "4                      w                      w         p          w   \n",
            "\n",
            "  ring-number ring-type spore-print-color population habitat  \n",
            "0           o         p                 k          s       u  \n",
            "1           o         p                 n          n       g  \n",
            "2           o         p                 n          n       m  \n",
            "3           o         p                 k          s       u  \n",
            "4           o         e                 n          a       g  \n",
            "\n",
            "[5 rows x 23 columns]\n",
            "Missing values:\n",
            " class                       0\n",
            "cap-shape                   0\n",
            "cap-surface                 0\n",
            "cap-color                   0\n",
            "bruises                     0\n",
            "odor                        0\n",
            "gill-attachment             0\n",
            "gill-spacing                0\n",
            "gill-size                   0\n",
            "gill-color                  0\n",
            "stalk-shape                 0\n",
            "stalk-root                  0\n",
            "stalk-surface-above-ring    0\n",
            "stalk-surface-below-ring    0\n",
            "stalk-color-above-ring      0\n",
            "stalk-color-below-ring      0\n",
            "veil-type                   0\n",
            "veil-color                  0\n",
            "ring-number                 0\n",
            "ring-type                   0\n",
            "spore-print-color           0\n",
            "population                  0\n",
            "habitat                     0\n",
            "dtype: int64\n"
          ]
        }
      ]
    },
    {
      "cell_type": "code",
      "source": [
        "from sklearn.model_selection import StratifiedShuffleSplit\n",
        "\n",
        "split1 = StratifiedShuffleSplit(n_splits=1, test_size=0.4, random_state=42)\n",
        "for train_index, remaining_index in split1.split(df, df['class']):\n",
        "    train_df = df.iloc[train_index]\n",
        "    remaining_df = df.iloc[remaining_index]\n",
        "\n",
        "split2 = StratifiedShuffleSplit(n_splits=1, test_size=0.5, random_state=42)\n",
        "for val_index, test_index in split2.split(remaining_df, remaining_df['class']):\n",
        "    val_df = remaining_df.iloc[val_index]\n",
        "    test_df = remaining_df.iloc[test_index]\n",
        "\n",
        "train_X = train_df.drop('class', axis=1)\n",
        "train_y = train_df['class']\n",
        "val_X = val_df.drop('class', axis=1)\n",
        "val_y = val_df['class']\n",
        "test_X = test_df.drop('class', axis=1)\n",
        "test_y = test_df['class']\n",
        "\n",
        "print(\"Training set shape:\", train_X.shape)\n",
        "print(\"Validation set shape:\", val_X.shape)\n",
        "print(\"Testing set shape:\", test_X.shape)"
      ],
      "metadata": {
        "colab": {
          "base_uri": "https://localhost:8080/"
        },
        "id": "MgrWw3dg31VG",
        "outputId": "079f1671-0d99-4dc2-cc9a-b2bfe18c8840"
      },
      "execution_count": null,
      "outputs": [
        {
          "output_type": "stream",
          "name": "stdout",
          "text": [
            "Training set shape: (3386, 22)\n",
            "Validation set shape: (1129, 22)\n",
            "Testing set shape: (1129, 22)\n"
          ]
        }
      ]
    },
    {
      "cell_type": "code",
      "source": [
        "class Node():\n",
        "    def __init__(self, attr=None, pred=None, class_label=None) -> None:\n",
        "        self.attr = attr\n",
        "        self.children = None\n",
        "        self.isLeaf = False\n",
        "        self.pred = pred\n",
        "        self.class_label = class_label\n"
      ],
      "metadata": {
        "id": "7lFfKMUpAJEo"
      },
      "execution_count": null,
      "outputs": []
    },
    {
      "cell_type": "code",
      "source": [
        "class DecisionTreeClassifierID3():\n",
        "    def __init__(self):\n",
        "        self.root = None\n",
        "\n",
        "    def isBalanced(self, df):\n",
        "        return len(df.unique()) == 1\n",
        "\n",
        "    def getEntropy(self, df):\n",
        "        total = len(df)\n",
        "        labels = df.value_counts(normalize=True)\n",
        "        entropy = -sum(labels * np.log2(labels))\n",
        "        return entropy\n",
        "\n",
        "    def gain(self, X, y, attr):\n",
        "        total_entropy = self.getEntropy(y)\n",
        "        values = X[attr].unique()\n",
        "        weighted_entropy = 0\n",
        "\n",
        "        for val in values:\n",
        "            sub_y = y[X[attr] == val]\n",
        "            weighted_entropy += (len(sub_y) / len(y)) * self.getEntropy(sub_y)\n",
        "\n",
        "        info_gain = total_entropy - weighted_entropy\n",
        "        return info_gain\n",
        "\n",
        "    def getMaxGain(self, X, y):\n",
        "        gains = {}\n",
        "        for attr in X.columns:\n",
        "            gains[attr] = self.gain(X, y, attr)\n",
        "            print(f\"Information Gain for {attr}: {gains[attr]:.4f}\")\n",
        "        max_gain_attr = max(gains, key=gains.get)\n",
        "        return max_gain_attr\n",
        "\n",
        "    def buildTree(self, X, y, attr_classes, class_val=None, depth=0, max_depth=None):\n",
        "        root = Node()\n",
        "        if self.isBalanced(y) or X.empty or (max_depth is not None and depth >= max_depth):\n",
        "            root.isLeaf = True\n",
        "            root.pred = y.mode()[0] if not y.mode().empty else None\n",
        "        else:\n",
        "            maxGainCol = self.getMaxGain(X, y)\n",
        "            pred = y.mode()[0]\n",
        "            attr_list = attr_classes[maxGainCol].copy()\n",
        "            root.attr = maxGainCol\n",
        "            root.children = []\n",
        "\n",
        "            for val in attr_list:\n",
        "                new_X = X[X[maxGainCol] == val].drop(columns=[maxGainCol])\n",
        "                new_y = y[X[maxGainCol] == val]\n",
        "                child = self.buildTree(new_X, new_y, attr_classes, val, depth + 1, max_depth)\n",
        "                root.children.append(child)\n",
        "\n",
        "            root.pred = pred\n",
        "\n",
        "        root.class_label = class_val\n",
        "        return root\n",
        "\n",
        "    def printTree(self, root, num_spaces=0):\n",
        "        if root is None:\n",
        "            return\n",
        "        print(\"\\t\" * num_spaces, end=\"\")\n",
        "        if root.class_label is not None:\n",
        "            print(f\"[{root.class_label}] \", end=\"\")\n",
        "        if root.isLeaf:\n",
        "            print(f\"Leaf: {root.pred}\")\n",
        "        else:\n",
        "            print(f\"Attribute: {root.attr}\")\n",
        "            for child in root.children:\n",
        "                self.printTree(child, num_spaces + 1)\n",
        "\n",
        "    def train(self, X, y, max_depth=None):\n",
        "        attr_classes = {}\n",
        "        for col in X.columns:\n",
        "            attr_classes[col] = X[col].unique().tolist()\n",
        "        self.root = self.buildTree(X, y, attr_classes, max_depth=max_depth)\n",
        "\n",
        "    def predict_one_example(self, x, root):\n",
        "        if root.isLeaf or root.children is None:\n",
        "            return root.pred\n",
        "        attr_value = x.get(root.attr)\n",
        "        for child in root.children:\n",
        "            if child.class_label == attr_value:\n",
        "                return self.predict_one_example(x, child)\n",
        "        return root.pred\n",
        "\n",
        "    def predict(self, X):\n",
        "        predictions = []\n",
        "        for _, row in X.iterrows():\n",
        "            predictions.append(self.predict_one_example(row, self.root))\n",
        "        return predictions"
      ],
      "metadata": {
        "id": "hdGrOdpI3_Oi"
      },
      "execution_count": null,
      "outputs": []
    },
    {
      "cell_type": "code",
      "source": [
        "max_depth = 6\n",
        "\n",
        "# Train the model\n",
        "clf = DecisionTreeClassifierID3()\n",
        "print(\"\\nTraining the Decision Tree with Pre-Pruning...\")\n",
        "clf.train(train_X, train_y, max_depth=max_depth)"
      ],
      "metadata": {
        "colab": {
          "base_uri": "https://localhost:8080/"
        },
        "id": "1IeJtTM-4E2l",
        "outputId": "4f84cb3c-08c3-411a-ccfd-0f0176a29938"
      },
      "execution_count": null,
      "outputs": [
        {
          "output_type": "stream",
          "name": "stdout",
          "text": [
            "\n",
            "Training the Decision Tree with Pre-Pruning...\n",
            "Information Gain for cap-shape: 0.0168\n",
            "Information Gain for cap-surface: 0.0044\n",
            "Information Gain for cap-color: 0.1952\n",
            "Information Gain for bruises: 0.1291\n",
            "Information Gain for odor: 0.8548\n",
            "Information Gain for gill-attachment: 0.0033\n",
            "Information Gain for gill-spacing: 0.0641\n",
            "Information Gain for gill-size: 0.0296\n",
            "Information Gain for gill-color: 0.2164\n",
            "Information Gain for stalk-shape: 0.2719\n",
            "Information Gain for stalk-root: 0.1013\n",
            "Information Gain for stalk-surface-above-ring: 0.4209\n",
            "Information Gain for stalk-surface-below-ring: 0.4078\n",
            "Information Gain for stalk-color-above-ring: 0.2977\n",
            "Information Gain for stalk-color-below-ring: 0.2744\n",
            "Information Gain for veil-type: 0.0000\n",
            "Information Gain for veil-color: 0.0012\n",
            "Information Gain for ring-number: 0.0111\n",
            "Information Gain for ring-type: 0.4631\n",
            "Information Gain for spore-print-color: 0.5890\n",
            "Information Gain for population: 0.1086\n",
            "Information Gain for habitat: 0.1012\n",
            "Information Gain for cap-shape: 0.0999\n",
            "Information Gain for cap-surface: 0.0391\n",
            "Information Gain for cap-color: 0.1510\n",
            "Information Gain for bruises: 0.0122\n",
            "Information Gain for gill-attachment: 0.0000\n",
            "Information Gain for gill-spacing: 0.0044\n",
            "Information Gain for gill-size: 0.0017\n",
            "Information Gain for gill-color: 0.1334\n",
            "Information Gain for stalk-shape: 0.1165\n",
            "Information Gain for stalk-root: 0.0267\n",
            "Information Gain for stalk-surface-above-ring: 0.0103\n",
            "Information Gain for stalk-surface-below-ring: 0.0102\n",
            "Information Gain for stalk-color-above-ring: 0.0341\n",
            "Information Gain for stalk-color-below-ring: 0.0347\n",
            "Information Gain for veil-type: 0.0000\n",
            "Information Gain for veil-color: 0.0088\n",
            "Information Gain for ring-number: 0.1257\n",
            "Information Gain for ring-type: 0.0096\n",
            "Information Gain for spore-print-color: 0.1919\n",
            "Information Gain for population: 0.0625\n",
            "Information Gain for habitat: 0.1187\n",
            "Information Gain for cap-shape: 0.2127\n",
            "Information Gain for cap-surface: 0.1773\n",
            "Information Gain for cap-color: 0.4830\n",
            "Information Gain for bruises: 0.0159\n",
            "Information Gain for gill-attachment: 0.0000\n",
            "Information Gain for gill-spacing: 0.1059\n",
            "Information Gain for gill-size: 0.1059\n",
            "Information Gain for gill-color: 0.1608\n",
            "Information Gain for stalk-shape: 0.0000\n",
            "Information Gain for stalk-root: 0.1608\n",
            "Information Gain for stalk-surface-above-ring: 0.0461\n",
            "Information Gain for stalk-surface-below-ring: 0.0485\n",
            "Information Gain for stalk-color-above-ring: 0.1794\n",
            "Information Gain for stalk-color-below-ring: 0.2502\n",
            "Information Gain for veil-type: 0.0000\n",
            "Information Gain for veil-color: 0.1608\n",
            "Information Gain for ring-number: 0.1059\n",
            "Information Gain for ring-type: 0.0004\n",
            "Information Gain for population: 0.4830\n",
            "Information Gain for habitat: 0.1059\n"
          ]
        }
      ]
    },
    {
      "cell_type": "code",
      "source": [
        "def prune_tree(node, X_val, y_val):\n",
        "    if node.isLeaf or node.children is None:\n",
        "        return\n",
        "\n",
        "    for child in node.children:\n",
        "        subset_indices = X_val[node.attr] == child.class_label\n",
        "        X_subset = X_val[subset_indices].drop(columns=[node.attr])\n",
        "        y_subset = y_val[subset_indices]\n",
        "        prune_tree(child, X_subset, y_subset)\n",
        "\n",
        "    predictions = []\n",
        "    for _, x in X_val.iterrows():\n",
        "        predictions.append(clf.predict_one_example(x, node))\n",
        "    accuracy_without_pruning = (np.array(predictions) == y_val.values).mean()\n",
        "\n",
        "    temp_children = node.children\n",
        "    temp_isLeaf = node.isLeaf\n",
        "    temp_pred = node.pred\n",
        "\n",
        "    node.isLeaf = True\n",
        "    node.children = None\n",
        "    node.pred = node.pred\n",
        "\n",
        "    predictions = []\n",
        "    for _, x in X_val.iterrows():\n",
        "        predictions.append(clf.predict_one_example(x, node))\n",
        "    accuracy_with_pruning = (np.array(predictions) == y_val.values).mean()\n",
        "\n",
        "    if accuracy_with_pruning < accuracy_without_pruning:\n",
        "        node.isLeaf = temp_isLeaf\n",
        "        node.children = temp_children\n",
        "        node.pred = temp_pred\n",
        "    else:\n",
        "        pass  # Keep node pruned"
      ],
      "metadata": {
        "id": "TT1QoCXj4Os6"
      },
      "execution_count": null,
      "outputs": []
    },
    {
      "cell_type": "code",
      "source": [
        "print(\"\\nApplying Post-Pruning...\")\n",
        "prune_tree(clf.root, val_X, val_y)"
      ],
      "metadata": {
        "colab": {
          "base_uri": "https://localhost:8080/"
        },
        "id": "rbW1yg6V98uK",
        "outputId": "dc691c18-9feb-402d-b779-27d7dd4db511"
      },
      "execution_count": null,
      "outputs": [
        {
          "output_type": "stream",
          "name": "stdout",
          "text": [
            "\n",
            "Applying Post-Pruning...\n"
          ]
        }
      ]
    },
    {
      "cell_type": "code",
      "source": [
        "print(\"\\nDecision Tree Structure After Pruning:\")\n",
        "clf.printTree(clf.root)"
      ],
      "metadata": {
        "colab": {
          "base_uri": "https://localhost:8080/"
        },
        "id": "K6Sw4nJT-BjM",
        "outputId": "6f417d0e-814e-48a6-a253-7b45708e58bc"
      },
      "execution_count": null,
      "outputs": [
        {
          "output_type": "stream",
          "name": "stdout",
          "text": [
            "\n",
            "Decision Tree Structure After Pruning:\n",
            "Attribute: odor\n",
            "\t[f] Leaf: p\n",
            "\t[n] Attribute: spore-print-color\n",
            "\t\t[h] Leaf: None\n",
            "\t\t[k] Leaf: e\n",
            "\t\t[n] Leaf: e\n",
            "\t\t[w] Attribute: cap-color\n",
            "\t\t\t[g] Leaf: e\n",
            "\t\t\t[e] Leaf: None\n",
            "\t\t\t[n] Leaf: e\n",
            "\t\t\t[p] Leaf: e\n",
            "\t\t\t[y] Leaf: p\n",
            "\t\t\t[w] Leaf: p\n",
            "\t\t\t[b] Leaf: None\n",
            "\t\t\t[c] Leaf: e\n",
            "\t\t[u] Leaf: None\n",
            "\t\t[r] Leaf: p\n",
            "\t[c] Leaf: p\n",
            "\t[a] Leaf: e\n",
            "\t[p] Leaf: p\n",
            "\t[l] Leaf: e\n",
            "\t[m] Leaf: p\n"
          ]
        }
      ]
    },
    {
      "cell_type": "code",
      "source": [
        "pred_y = clf.predict(test_X)\n",
        "\n",
        "accuracy = (np.array(pred_y) == test_y.values).mean() * 100\n",
        "print(f\"\\nAccuracy on Test Set: {accuracy:.2f}%\")"
      ],
      "metadata": {
        "colab": {
          "base_uri": "https://localhost:8080/"
        },
        "id": "-TeEO2kv-G_7",
        "outputId": "6b0789ef-bf1d-41d9-fe81-0c226b0b8e4a"
      },
      "execution_count": null,
      "outputs": [
        {
          "output_type": "stream",
          "name": "stdout",
          "text": [
            "\n",
            "Accuracy on Test Set: 100.00%\n"
          ]
        }
      ]
    },
    {
      "cell_type": "code",
      "source": [
        "from sklearn.tree import DecisionTreeClassifier\n",
        "from sklearn.metrics import accuracy_score\n",
        "from sklearn.preprocessing import LabelEncoder\n",
        "\n",
        "combined_X = pd.concat([train_X, val_X])\n",
        "combined_y = pd.concat([train_y, val_y])\n",
        "\n",
        "label_encoders = {}\n",
        "for column in combined_X.columns:\n",
        "    le = LabelEncoder()\n",
        "    combined_X[column] = le.fit_transform(combined_X[column])\n",
        "    test_X[column] = le.transform(test_X[column])\n",
        "    label_encoders[column] = le\n",
        "\n",
        "le_target = LabelEncoder()\n",
        "combined_y = le_target.fit_transform(combined_y)\n",
        "test_y_encoded = le_target.transform(test_y)\n",
        "\n",
        "sklearn_clf = DecisionTreeClassifier(random_state=42, max_depth=max_depth)\n",
        "sklearn_clf.fit(combined_X, combined_y)\n",
        "\n",
        "sklearn_pred = sklearn_clf.predict(test_X)\n",
        "\n",
        "sklearn_accuracy = accuracy_score(test_y_encoded, sklearn_pred) * 100\n",
        "print(f\"Scikit-learn Decision Tree Accuracy with max_depth={max_depth}: {sklearn_accuracy:.2f}%\")"
      ],
      "metadata": {
        "colab": {
          "base_uri": "https://localhost:8080/"
        },
        "id": "fJC_n9qxBMap",
        "outputId": "cfe00578-eeac-4530-93db-1a6e2c3a05c3"
      },
      "execution_count": null,
      "outputs": [
        {
          "output_type": "stream",
          "name": "stdout",
          "text": [
            "Scikit-learn Decision Tree Accuracy with max_depth=6: 100.00%\n"
          ]
        }
      ]
    }
  ]
}